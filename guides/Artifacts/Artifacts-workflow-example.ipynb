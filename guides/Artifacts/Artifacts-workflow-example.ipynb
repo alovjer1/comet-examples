{
 "cells": [
  {
   "cell_type": "markdown",
   "id": "65aa03f5",
   "metadata": {},
   "source": [
    "## Introduction\n",
    "\n",
    "Artifacts live in a Comet Workspace and are an easy way to keep track of data versioning. \n",
    "\n",
    "In this guide, we will demostrate how to use the Artifact class. Use an instance of the Artifact class to log and retreive both files and remote assets, and automatically keep track of the dataset version used to train your models. \n",
    "\n",
    "### Workflow Overview    \n",
    "\n",
    "0. Input filepath, project name and workspace\n",
    "1. Import packages and read data from local disk (if needed)\n",
    "2. Initialize Comet and set your workspace and API key\n",
    "3. Create an Experiment object to log the Artifact\n",
    "4. Create an Artifact object and provide metadata\n",
    "5. Add the dataset to the Artifact object\n",
    "6. Upload the data to Comet using experiment.log_artifact\n",
    "7. Reference the logged artifact from the Artifact Registry"
   ]
  },
  {
   "cell_type": "markdown",
   "id": "0f4e4cee",
   "metadata": {},
   "source": [
    "#### 0. Input filepaths, project name and workspace"
   ]
  },
  {
   "cell_type": "code",
   "execution_count": null,
   "id": "4ec6f0d0",
   "metadata": {},
   "outputs": [],
   "source": [
    "INPUT_FILE_PATH=    # example: \"data/my_dataset_file.csv\"\n",
    "PROJECT_NAME=       \n",
    "WORKSPACE="
   ]
  },
  {
   "cell_type": "markdown",
   "id": "04e337a0",
   "metadata": {},
   "source": [
    "#### 1. Import packages and read data from local disk\n",
    "\n",
    "Skip this step if data is stored in a remote location."
   ]
  },
  {
   "cell_type": "code",
   "execution_count": null,
   "id": "ee112dd1",
   "metadata": {},
   "outputs": [],
   "source": [
    "import comet_ml\n",
    "from comet_ml import Experiment, Artifact\n",
    "import pandas as pd\n",
    "\n",
    "import os"
   ]
  },
  {
   "cell_type": "code",
   "execution_count": null,
   "id": "22b5d92e",
   "metadata": {},
   "outputs": [],
   "source": [
    "raw_data = pd.read_csv(INPUT_FILE_PATH, sep = '\\t')"
   ]
  },
  {
   "cell_type": "code",
   "execution_count": null,
   "id": "92c709bb",
   "metadata": {},
   "outputs": [],
   "source": [
    "raw_data.shape"
   ]
  },
  {
   "cell_type": "markdown",
   "id": "d8cfed45",
   "metadata": {},
   "source": [
    "#### 2. Initialize Comet and set your workspace and API key"
   ]
  },
  {
   "cell_type": "code",
   "execution_count": null,
   "id": "739fe198",
   "metadata": {},
   "outputs": [],
   "source": [
    "comet_ml.init(workspace=WORKSPACE, project_name=PROJECT_NAME)"
   ]
  },
  {
   "cell_type": "markdown",
   "id": "a458f39f",
   "metadata": {},
   "source": [
    "#### 3. Create an Experiment object to log the Artifact"
   ]
  },
  {
   "cell_type": "code",
   "execution_count": null,
   "id": "cc03c87b",
   "metadata": {},
   "outputs": [],
   "source": [
    "experiment = Experiment(\n",
    "    project_name=PROJECT_NAME,\n",
    "    workspace=WORKSPACE\n",
    ")\n",
    "\n",
    "experiment.add_tag('log-data')"
   ]
  },
  {
   "cell_type": "markdown",
   "id": "ec102c0e",
   "metadata": {},
   "source": [
    "#### 4. Create an Artifact object and provide metadata\n",
    "\n",
    "Artifact aliases are specific to a particular version of an artifact. The exception to this is the alias \"latest\" which is automatically assigned to the most recent verion of the artifact. \n",
    "\n",
    "See documentation for more information: https://www.comet.ml/docs/python-sdk/Artifact/"
   ]
  },
  {
   "cell_type": "code",
   "execution_count": null,
   "id": "b991e63f",
   "metadata": {},
   "outputs": [],
   "source": [
    "artifact = Artifact(name=\"my-dataset\",\n",
    "                    artifact_type=\"tabluar dataset\",\n",
    "                    aliases=[\"raw-data\"],\n",
    "                    metadata={'filetype':'csv', \n",
    "                              'original_source':'Downloaded from local drive'}\n",
    ")"
   ]
  },
  {
   "cell_type": "markdown",
   "id": "6ae63bce",
   "metadata": {},
   "source": [
    "#### 5. Add the dataset to the Artifact object"
   ]
  },
  {
   "cell_type": "code",
   "execution_count": null,
   "id": "41d43652",
   "metadata": {},
   "outputs": [],
   "source": [
    "artifact.add(INPUT_FILE_PATH)"
   ]
  },
  {
   "cell_type": "markdown",
   "id": "a03d8d65",
   "metadata": {},
   "source": [
    "**Remote Assets**\n",
    "\n",
    "If logging a remote asset, use the method \"add_remote\" in place of \"add\" with the Artifact() object. See docs for input arguments: https://www.comet.ml/docs/python-sdk/Artifact/#artifactadd_remote"
   ]
  },
  {
   "cell_type": "markdown",
   "id": "c552fe2a",
   "metadata": {},
   "source": [
    "#### 6. Upload the data to Comet using experiment.log_artifact"
   ]
  },
  {
   "cell_type": "code",
   "execution_count": null,
   "id": "d1e5e1b8",
   "metadata": {},
   "outputs": [],
   "source": [
    "experiment.log_artifact(artifact)\n",
    "experiment.end()"
   ]
  },
  {
   "cell_type": "markdown",
   "id": "ee5366a8",
   "metadata": {},
   "source": [
    "The artifact will now appear in the Artifacts tab in the workspace view. Using the same methodology steps listed above, the dataset can be updated and versioning will take place automatically. "
   ]
  },
  {
   "cell_type": "markdown",
   "id": "0bff5765",
   "metadata": {},
   "source": [
    "#### 7. Reference the logged artifact from the Artifact Registry\n",
    "\n",
    "To access the Artifact, initialize an Experiment and use the method \"get_artifact()\". Download the artifact on your local machine if needed and specify the path (line 5).\n",
    "\n",
    "Note, by using the method \"get_artifact\", this artifact and its version will be automatically associated with your current open Experiment and can be found in the \"Assets & Artifacts\" tab. In practice this means keeping track of the dataset version being used does not need to be done manually."
   ]
  },
  {
   "cell_type": "code",
   "execution_count": null,
   "id": "fac85138",
   "metadata": {},
   "outputs": [],
   "source": [
    "comet_ml.init()\n",
    "experiment = Experiment(workspace=WORKSPACE_NAME, project_name=PROJECT_NAME)\n",
    "experiment.set_name('fetching-data')\n",
    "logged_artifact = experiment.get_artifact(DATASET_NAME)\n",
    "logged_artifact.download(path = './')\n",
    "\n",
    "# get dataset version\n",
    "for asset in logged_artifact.assets:\n",
    "    DATASET_VERSION_ID = asset.artifact_version_id\n",
    "    \n",
    "print(\"Dataset version: \", DATASET_VERSION_ID)\n",
    "\n",
    "experiment.end()"
   ]
  }
 ],
 "metadata": {
  "kernelspec": {
   "display_name": "Python 3 (ipykernel)",
   "language": "python",
   "name": "python3"
  },
  "language_info": {
   "codemirror_mode": {
    "name": "ipython",
    "version": 3
   },
   "file_extension": ".py",
   "mimetype": "text/x-python",
   "name": "python",
   "nbconvert_exporter": "python",
   "pygments_lexer": "ipython3",
   "version": "3.8.12"
  }
 },
 "nbformat": 4,
 "nbformat_minor": 5
}
